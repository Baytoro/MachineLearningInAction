{
 "cells": [
  {
   "cell_type": "code",
   "execution_count": 16,
   "metadata": {},
   "outputs": [],
   "source": [
    "from numpy import *"
   ]
  },
  {
   "cell_type": "code",
   "execution_count": 17,
   "metadata": {},
   "outputs": [],
   "source": [
    "def loadDataSet():\n",
    "    postingList=[['my', 'dog', 'has', 'flea', 'problems', 'help', 'please'],\n",
    "                 ['maybe', 'not', 'take', 'him', 'to', 'dog', 'park', 'stupid'],\n",
    "                 ['my', 'dalmation', 'is', 'so', 'cute', 'I', 'love', 'him'],\n",
    "                 ['stop', 'posting', 'stupid', 'worthless', 'garbage'],\n",
    "                 ['mr', 'licks', 'ate', 'my', 'steak', 'how', 'to', 'stop', 'him'],\n",
    "                 ['quit', 'buying', 'worthless', 'dog', 'food', 'stupid']]\n",
    "    classVec = [0,1,0,1,0,1]    #1 is abusive, 0 not\n",
    "    return postingList,classVec"
   ]
  },
  {
   "cell_type": "code",
   "execution_count": 18,
   "metadata": {},
   "outputs": [],
   "source": [
    "def createVocabList(dataSet):\n",
    "    vocabSet = set([])  #create empty set\n",
    "    for document in dataSet:\n",
    "        vocabSet = vocabSet | set(document) #union of the two sets\n",
    "    return list(vocabSet)"
   ]
  },
  {
   "cell_type": "code",
   "execution_count": 19,
   "metadata": {},
   "outputs": [],
   "source": [
    "def setOfWords2Vec(vocabList, inputSet):\n",
    "    returnVec = [0]*len(vocabList)\n",
    "    for word in inputSet:\n",
    "        if word in vocabList:\n",
    "            returnVec[vocabList.index(word)] = 1\n",
    "        else: print(\"the word: %s is not in my Vocabulary!\" % word)\n",
    "    return returnVec"
   ]
  },
  {
   "cell_type": "code",
   "execution_count": 20,
   "metadata": {},
   "outputs": [
    {
     "name": "stdout",
     "output_type": "stream",
     "text": [
      "['has', 'worthless', 'park', 'love', 'quit', 'food', 'posting', 'please', 'problems', 'to', 'ate', 'mr', 'how', 'garbage', 'stupid', 'my', 'licks', 'take', 'not', 'I', 'buying', 'is', 'dog', 'cute', 'so', 'stop', 'maybe', 'help', 'him', 'dalmation', 'flea', 'steak']\n",
      "[1, 0, 0, 0, 0, 0, 0, 1, 1, 0, 0, 0, 0, 0, 0, 1, 0, 0, 0, 0, 0, 0, 1, 0, 0, 0, 0, 1, 0, 0, 1, 0]\n"
     ]
    }
   ],
   "source": [
    "listOPosts, listClasses = loadDataSet()\n",
    "myVocabList = createVocabList(listOPosts)\n",
    "print(myVocabList)\n",
    "print(setOfWords2Vec(myVocabList, listOPosts[0]))"
   ]
  },
  {
   "cell_type": "code",
   "execution_count": 48,
   "metadata": {},
   "outputs": [],
   "source": [
    "def trainNB0(trainMatrix,trainCategory):\n",
    "    numTrainDocs = len(trainMatrix)\n",
    "    numWords = len(trainMatrix[0])\n",
    "    pAbusive = sum(trainCategory)/float(numTrainDocs)\n",
    "    p0Num = ones(numWords); p1Num = ones(numWords)      #change to ones() \n",
    "    p0Denom = 2.0; p1Denom = 2.0                        #change to 2.0\n",
    "    for i in range(numTrainDocs):\n",
    "        if trainCategory[i] == 1:\n",
    "            p1Num += trainMatrix[i]\n",
    "            p1Denom += 1\n",
    "        else:\n",
    "            p0Num += trainMatrix[i]\n",
    "            p0Denom += 1\n",
    "    p1Vect = (p1Num + 0.1)/(p1Denom + 0.1 * 2)          #change to log()\n",
    "    p0Vect = (p0Num + 0.1)/(p0Denom + 0.1 * 2)#change to log()\n",
    "    return p0Vect,p1Vect,pAbusive"
   ]
  },
  {
   "cell_type": "code",
   "execution_count": 49,
   "metadata": {},
   "outputs": [
    {
     "name": "stdout",
     "output_type": "stream",
     "text": [
      "[0.40384615 0.21153846 0.21153846 0.40384615 0.21153846 0.21153846\n",
      " 0.21153846 0.40384615 0.40384615 0.40384615 0.40384615 0.40384615\n",
      " 0.40384615 0.21153846 0.21153846 0.78846154 0.40384615 0.21153846\n",
      " 0.21153846 0.40384615 0.21153846 0.40384615 0.40384615 0.40384615\n",
      " 0.40384615 0.40384615 0.21153846 0.40384615 0.59615385 0.40384615\n",
      " 0.40384615 0.40384615]\n",
      "[0.21153846 0.59615385 0.40384615 0.21153846 0.40384615 0.40384615\n",
      " 0.40384615 0.21153846 0.21153846 0.40384615 0.21153846 0.21153846\n",
      " 0.21153846 0.40384615 0.78846154 0.21153846 0.21153846 0.40384615\n",
      " 0.40384615 0.21153846 0.40384615 0.21153846 0.59615385 0.21153846\n",
      " 0.21153846 0.40384615 0.40384615 0.21153846 0.40384615 0.21153846\n",
      " 0.21153846 0.21153846]\n",
      "0.5\n",
      "stupid\n",
      "my\n"
     ]
    }
   ],
   "source": [
    "trainMat = []\n",
    "for i in listOPosts:\n",
    "    trainMat.append(setOfWords2Vec(myVocabList, i))\n",
    "p0V,p1V,pAb = trainNB0(trainMat,listClasses)\n",
    "print(p0V)\n",
    "print(p1V)\n",
    "print(pAb)\n",
    "print(myVocabList[argmax(p1V)])\n",
    "print(myVocabList[argmax(p0V)])"
   ]
  },
  {
   "cell_type": "code",
   "execution_count": 50,
   "metadata": {},
   "outputs": [],
   "source": [
    "def classifyNB(vec2Classify, p0Vec, p1Vec, pClass1):\n",
    "    p1 = sum(log(vec2Classify * p1Vec + (1-vec2Classify) * (1-p1Vec))) + log(pClass1)    #element-wise mult\n",
    "    p0 = sum(log(vec2Classify * p0Vec + (1-vec2Classify) * (1-p0Vec))) + log(1.0 - pClass1)\n",
    "    print('p1=',p1)\n",
    "    print('p0=',p0)\n",
    "    if p1 > p0:\n",
    "        return 1\n",
    "    else: \n",
    "        return 0\n",
    "    \n",
    "def bagOfWords2VecMN(vocabList, inputSet):\n",
    "    returnVec = [0]*len(vocabList)\n",
    "    for word in inputSet:\n",
    "        if word in vocabList:\n",
    "            returnVec[vocabList.index(word)] += 1\n",
    "    return returnVec\n",
    "\n",
    "def testingNB():\n",
    "    listOPosts,listClasses = loadDataSet()\n",
    "    myVocabList = createVocabList(listOPosts)\n",
    "    trainMat=[]\n",
    "    for postinDoc in listOPosts:\n",
    "        trainMat.append(setOfWords2Vec(myVocabList, postinDoc))\n",
    "    p0V,p1V,pAb = trainNB0(array(trainMat),array(listClasses))\n",
    "    testEntry = ['love', 'my', 'dalmation']\n",
    "    thisDoc = array(setOfWords2Vec(myVocabList, testEntry))\n",
    "    print(testEntry,'classified as: ',classifyNB(thisDoc,p0V,p1V,pAb))\n",
    "    testEntry = ['stupid', 'garbage']\n",
    "    thisDoc = array(setOfWords2Vec(myVocabList, testEntry))\n",
    "    print(testEntry,'classified as: ',classifyNB(thisDoc,p0V,p1V,pAb))"
   ]
  },
  {
   "cell_type": "code",
   "execution_count": 51,
   "metadata": {},
   "outputs": [
    {
     "name": "stdout",
     "output_type": "stream",
     "text": [
      "p1= -18.25446482084323\n",
      "p0= -15.058731585296174\n",
      "['love', 'my', 'dalmation'] classified as:  0\n",
      "p1= -13.381222411981204\n",
      "p0= -18.226832433490536\n",
      "['stupid', 'garbage'] classified as:  1\n"
     ]
    }
   ],
   "source": [
    "testingNB()"
   ]
  },
  {
   "cell_type": "code",
   "execution_count": null,
   "metadata": {},
   "outputs": [],
   "source": []
  }
 ],
 "metadata": {
  "kernelspec": {
   "display_name": "Python 3",
   "language": "python",
   "name": "python3"
  },
  "language_info": {
   "codemirror_mode": {
    "name": "ipython",
    "version": 3
   },
   "file_extension": ".py",
   "mimetype": "text/x-python",
   "name": "python",
   "nbconvert_exporter": "python",
   "pygments_lexer": "ipython3",
   "version": "3.6.4"
  }
 },
 "nbformat": 4,
 "nbformat_minor": 2
}
